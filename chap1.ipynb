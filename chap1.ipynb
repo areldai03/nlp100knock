{
  "nbformat": 4,
  "nbformat_minor": 0,
  "metadata": {
    "colab": {
      "provenance": []
    },
    "kernelspec": {
      "name": "python3",
      "display_name": "Python 3"
    },
    "language_info": {
      "name": "python"
    }
  },
  "cells": [
    {
      "cell_type": "code",
      "execution_count": null,
      "metadata": {
        "colab": {
          "base_uri": "https://localhost:8080/"
        },
        "id": "8nDQycNoudVu",
        "outputId": "2a94616a-747e-4ffc-88ed-0e88eb31631e"
      },
      "outputs": [
        {
          "output_type": "stream",
          "name": "stdout",
          "text": [
            "desserts\n"
          ]
        }
      ],
      "source": [
        "#0\n",
        "text=\"stressed\"\n",
        "t = text[::-1]\n",
        "print(t)"
      ]
    },
    {
      "cell_type": "code",
      "source": [
        "#1\n",
        "text=\"パタトクカシーー\"\n",
        "strings=text[::2]\n",
        "print(strings)"
      ],
      "metadata": {
        "colab": {
          "base_uri": "https://localhost:8080/"
        },
        "id": "J_bILD5qu-BM",
        "outputId": "14f577ba-9b30-4432-d564-f60a3cc9371b"
      },
      "execution_count": null,
      "outputs": [
        {
          "output_type": "stream",
          "name": "stdout",
          "text": [
            "パトカー\n"
          ]
        }
      ]
    },
    {
      "cell_type": "code",
      "source": [
        "#2\n",
        "text1=\"パトカー\"\n",
        "text2=\"タクシー\"\n",
        "strings=\"\"\n",
        "for i in range(len(text1)):\n",
        "  strings+=text1[i]+text2[i]\n",
        "print(strings)"
      ],
      "metadata": {
        "colab": {
          "base_uri": "https://localhost:8080/"
        },
        "id": "mirAuTLWv7SH",
        "outputId": "d9a84ec3-7674-46a2-f8c9-6c5ace082e14"
      },
      "execution_count": null,
      "outputs": [
        {
          "output_type": "stream",
          "name": "stdout",
          "text": [
            "パタトクカシーー\n"
          ]
        }
      ]
    },
    {
      "cell_type": "code",
      "source": [
        "#3\n",
        "text=\"Now I need a drink, alcoholic of course, after the heavy lectures involving quantum mechanics.\"\n",
        "text=text.replace(\",\",\"\").replace(\".\",\"\").split()\n",
        "dic={}\n",
        "for word in text:\n",
        "  dic[word] = len(word)\n",
        "cntlist=dic.values()\n",
        "print(cntlist)"
      ],
      "metadata": {
        "id": "jkHDSVha2JQq",
        "colab": {
          "base_uri": "https://localhost:8080/"
        },
        "outputId": "c8d13a4a-d923-4a65-91fc-5836992bfa02"
      },
      "execution_count": null,
      "outputs": [
        {
          "output_type": "stream",
          "name": "stdout",
          "text": [
            "dict_values([3, 1, 4, 1, 5, 9, 2, 6, 5, 3, 5, 8, 9, 7, 9])\n"
          ]
        }
      ]
    },
    {
      "cell_type": "code",
      "source": [
        "#4\n",
        "text=\"Hi He Lied Because Boron Could Not Oxidize Fluorine. New Nations Might Also Sign Peace Security Clause. Arthur King Can\"\n",
        "tlist=text.replace(\".\",\"\").split()\n",
        "cnt=1\n",
        "gettlist=[]\n",
        "dic={}\n",
        "for t in tlist:\n",
        "  if cnt in (1, 5, 6, 7, 8, 9, 15, 16, 19):\n",
        "    gettlist.append(t[:1])\n",
        "    dic[cnt]=t[:1]\n",
        "  else:\n",
        "    gettlist.append(t[:2])\n",
        "    dic[cnt]=t[:2]\n",
        "  cnt+=1\n",
        "print(gettlist)\n",
        "print(dic.items())\n"
      ],
      "metadata": {
        "id": "byxUuFaLNwKN",
        "colab": {
          "base_uri": "https://localhost:8080/"
        },
        "outputId": "fc6b659f-2fdb-434e-b61d-9871ca0f984f"
      },
      "execution_count": null,
      "outputs": [
        {
          "output_type": "stream",
          "name": "stdout",
          "text": [
            "['H', 'He', 'Li', 'Be', 'B', 'C', 'N', 'O', 'F', 'Ne', 'Na', 'Mi', 'Al', 'Si', 'P', 'S', 'Cl', 'Ar', 'K', 'Ca']\n",
            "dict_items([(1, 'H'), (2, 'He'), (3, 'Li'), (4, 'Be'), (5, 'B'), (6, 'C'), (7, 'N'), (8, 'O'), (9, 'F'), (10, 'Ne'), (11, 'Na'), (12, 'Mi'), (13, 'Al'), (14, 'Si'), (15, 'P'), (16, 'S'), (17, 'Cl'), (18, 'Ar'), (19, 'K'), (20, 'Ca')])\n"
          ]
        }
      ]
    },
    {
      "cell_type": "code",
      "source": [
        "#5\n",
        "def nGram(sequence, n, m):  #wなら単語,sなら文字のgram\n",
        "  if m==\"w\":\n",
        "    sequence=sequence.split()\n",
        "  elif m==\"s\":\n",
        "    sequence=sequence.replace(\" \",\"\")\n",
        "  else:\n",
        "    print(\"sかwのみを際に引数に指定してください。\")\n",
        "    return False\n",
        "  if n > len(sequence):\n",
        "    return False\n",
        "  li=[]\n",
        "  sum=[]\n",
        "  for i in range(len(sequence)-n+1):\n",
        "    li.append(sequence[i:i+n])\n",
        "  return li\n",
        "print(f'文字：{nGram(\"I am an NLPer\", 2, \"s\")}')\n",
        "print(f'単語：{nGram(\"I am an NLPer\", 2, \"w\")}')"
      ],
      "metadata": {
        "id": "UFv1B4-JT8Zh",
        "colab": {
          "base_uri": "https://localhost:8080/"
        },
        "outputId": "12d88626-8be9-40e4-f0b1-66aff1138ee2"
      },
      "execution_count": null,
      "outputs": [
        {
          "output_type": "stream",
          "name": "stdout",
          "text": [
            "文字：['Ia', 'am', 'ma', 'an', 'nN', 'NL', 'LP', 'Pe', 'er']\n",
            "単語：[['I', 'am'], ['am', 'an'], ['an', 'NLPer']]\n"
          ]
        }
      ]
    },
    {
      "cell_type": "code",
      "source": [
        "#6\n",
        "x=nGram(\"paraparaparadise\", 2, \"s\")\n",
        "y=nGram(\"paragraph\", 2, \"s\")\n",
        "X=set(tuple(i) for i in x)\n",
        "Y=set(tuple(i) for i in y)\n",
        "\n",
        "u1=X.union(Y)\n",
        "u2=X.intersection(Y)\n",
        "u3=X.difference(Y)\n",
        "\n",
        "print(f'和集合：{u1}')\n",
        "print(f'積集合：{u2}')\n",
        "print(f'差集合：{u3}')\n",
        "\n",
        "print(u1.intersection({('s', 'e')}))\n",
        "print(u2.intersection({('s', 'e')}))\n"
      ],
      "metadata": {
        "id": "STUX15hLUR1D",
        "colab": {
          "base_uri": "https://localhost:8080/"
        },
        "outputId": "8c773249-4fed-468d-9668-cf7cce382351"
      },
      "execution_count": null,
      "outputs": [
        {
          "output_type": "stream",
          "name": "stdout",
          "text": [
            "和集合：{('a', 'g'), ('a', 'd'), ('p', 'h'), ('s', 'e'), ('i', 's'), ('d', 'i'), ('p', 'a'), ('a', 'p'), ('r', 'a'), ('g', 'r'), ('a', 'r')}\n",
            "積集合：{('r', 'a'), ('p', 'a'), ('a', 'r'), ('a', 'p')}\n",
            "差集合：{('i', 's'), ('d', 'i'), ('a', 'd'), ('s', 'e')}\n",
            "{('s', 'e')}\n",
            "set()\n"
          ]
        }
      ]
    },
    {
      "cell_type": "code",
      "source": [
        "#7\n",
        "def istemperature(x,y,z):\n",
        "  print(f'{x}時の{y}は{z}')\n",
        "istemperature(12, '気温', 22.4)"
      ],
      "metadata": {
        "colab": {
          "base_uri": "https://localhost:8080/"
        },
        "id": "JpaaoZ3gKeyh",
        "outputId": "3d549a19-85d6-472a-d45b-9426ae52e0ad"
      },
      "execution_count": null,
      "outputs": [
        {
          "output_type": "stream",
          "name": "stdout",
          "text": [
            "12時の気温は22.4\n"
          ]
        }
      ]
    },
    {
      "cell_type": "code",
      "source": [
        "#8\n",
        "def cipher(plain):\n",
        "  result = []\n",
        "  for p in plain:\n",
        "    if p.islower():\n",
        "      p = 219 - ord(p)\n",
        "      token = chr(p)\n",
        "    else:\n",
        "      token=p\n",
        "    result.append(token)\n",
        "  return \"\".join(result)\n",
        "print(f'暗号化：{cipher(\"He is Kato\")}')\n",
        "print(f'復号化：{cipher(\"Hv  rh  Kzgl\")}')"
      ],
      "metadata": {
        "id": "ONNxn2EPNUwk",
        "colab": {
          "base_uri": "https://localhost:8080/"
        },
        "outputId": "4ced57ea-f514-46d3-8a79-349911cf9972"
      },
      "execution_count": 2,
      "outputs": [
        {
          "output_type": "stream",
          "name": "stdout",
          "text": [
            "暗号化：Hv rh Kzgl\n",
            "復号化：He  is  Kato\n"
          ]
        }
      ]
    },
    {
      "cell_type": "code",
      "source": [
        "#9\n",
        "import random\n",
        "def shuffleWord(word):\n",
        "  s = word[0]\n",
        "  tgt = list(word[1:-1])\n",
        "  e = word[-1]\n",
        "  random.shuffle(tgt)\n",
        "  tgt = \"\".join(tgt)\n",
        "\n",
        "  result = s + tgt + e\n",
        "\n",
        "  return result\n",
        "\n",
        "def Typoglycemia(text):\n",
        "  result = []\n",
        "  word = text.split(\" \")\n",
        "  for w in word:\n",
        "    if len(w) > 4:\n",
        "      w = shuffleWord(w)\n",
        "    result.append(w)\n",
        "  print(result)\n",
        "\n",
        "Typoglycemia(\"I couldn’t believe that I could actually understand what I was reading : the phenomenal power of the human mind .\")"
      ],
      "metadata": {
        "id": "VeuK5NHVODTr",
        "colab": {
          "base_uri": "https://localhost:8080/"
        },
        "outputId": "7007e11e-ac3a-4cb7-999b-e21556c68173"
      },
      "execution_count": null,
      "outputs": [
        {
          "output_type": "stream",
          "name": "stdout",
          "text": [
            "['I', 'co’ndlut', 'bivelee', 'that', 'I', 'cuold', 'aualltcy', 'unseadntrd', 'what', 'I', 'was', 'radenig', ':', 'the', 'penahneoml', 'pweor', 'of', 'the', 'huamn', 'mind', '.']\n"
          ]
        }
      ]
    }
  ]
}